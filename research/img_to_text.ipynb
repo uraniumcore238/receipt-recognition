{
 "cells": [
  {
   "cell_type": "code",
   "execution_count": null,
   "id": "2142a6e0-dc24-4278-a02f-558bb311ab08",
   "metadata": {},
   "outputs": [],
   "source": [
    "import pytesseract\n",
    "from PIL import Image\n",
    "import cv2\n",
    "\n",
    "\n",
    "pytesseract.pytesseract.tesseract_cmd = r'C:\\Program Files\\Tesseract-OCR\\tesseract.exe'\n",
    "\n",
    "\n",
    "image_path = (r'C:\\Users\\urani\\Documents\\Programming\\Python_projects\\receipt-recognition\\images'\n",
    "              r'\\receipt_one.jpg')\n",
    "img = Image.open(image_path)\n",
    "text = pytesseract.image_to_string(img)\n",
    "\n",
    "\n",
    "img_cv = cv2.imread(r'C:\\Users\\urani\\Documents\\Programming\\Python_projects\\receipt-recognition\\\n",
    "images\\receipt_one.jpg')\n",
    "\n",
    "\n",
    "img_rgb = cv2.cvtColor(img_cv, cv2.COLOR_BGR2RGB)\n",
    "pytesseract.image_to_string(img_rgb)\n",
    "\n",
    "img_rgb = Image.frombytes('RGB', img_cv.shape[:2], img_cv, 'raw',\n",
    "                          'BGR', 0, 0)\n",
    "pytesseract.image_to_string(img_rgb)\n"
   ]
  }
 ],
 "metadata": {
  "kernelspec": {
   "display_name": "",
   "name": ""
  },
  "language_info": {
   "name": ""
  }
 },
 "nbformat": 4,
 "nbformat_minor": 5
}
